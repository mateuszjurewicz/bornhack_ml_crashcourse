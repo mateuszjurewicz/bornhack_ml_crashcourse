{
 "cells": [
  {
   "cell_type": "markdown",
   "metadata": {},
   "source": [
    "# Style Transfer Crash Course\n",
    "## Bornhack 2019"
   ]
  },
  {
   "cell_type": "markdown",
   "metadata": {},
   "source": [
    "### Import libraries"
   ]
  },
  {
   "cell_type": "code",
   "execution_count": 1,
   "metadata": {},
   "outputs": [
    {
     "name": "stderr",
     "output_type": "stream",
     "text": [
      "Using TensorFlow backend.\n"
     ]
    }
   ],
   "source": [
    "import tensorflow as tf\n",
    "from tensorflow.python.keras.preprocessing import image as kp_image\n",
    "\n",
    "# Keras is only used to load VGG19 model as a high level API to TensorFlow \n",
    "from keras.applications.vgg19 import VGG19\n",
    "from keras.models import Model\n",
    "from keras import backend as K\n",
    "\n",
    "# image functions\n",
    "from PIL import Image\n",
    "from IPython.core.display import HTML, display, Image as DisplayImage\n",
    "\n",
    "# numPy is used for manipulation of array of object i.e Image in our case\n",
    "import numpy as np"
   ]
  },
  {
   "cell_type": "code",
   "execution_count": 2,
   "metadata": {},
   "outputs": [],
   "source": [
    "from style_transfer import load_img, deprocess_img"
   ]
  },
  {
   "cell_type": "markdown",
   "metadata": {},
   "source": [
    "##### Confirm virtual environment"
   ]
  },
  {
   "cell_type": "code",
   "execution_count": 3,
   "metadata": {},
   "outputs": [
    {
     "name": "stdout",
     "output_type": "stream",
     "text": [
      "Python 3.7.0\n"
     ]
    }
   ],
   "source": [
    "!python --version"
   ]
  },
  {
   "cell_type": "code",
   "execution_count": 4,
   "metadata": {},
   "outputs": [
    {
     "name": "stdout",
     "output_type": "stream",
     "text": [
      "absl-py==0.7.1\n",
      "appnope==0.1.0\n",
      "astor==0.8.0\n",
      "astroid==2.2.5\n",
      "attrs==19.1.0\n",
      "backcall==0.1.0\n",
      "bleach==3.1.0\n",
      "decorator==4.4.0\n",
      "defusedxml==0.6.0\n",
      "entrypoints==0.3\n",
      "gast==0.2.2\n",
      "google-pasta==0.1.7\n",
      "grpcio==1.22.0\n",
      "h5py==2.9.0\n",
      "ipykernel==5.1.1\n",
      "ipython==7.6.1\n",
      "ipython-genutils==0.2.0\n",
      "isort==4.3.21\n",
      "jedi==0.14.1\n",
      "Jinja2==2.10.1\n",
      "json5==0.8.5\n",
      "jsonschema==3.0.1\n",
      "jupyter-client==5.3.1\n",
      "jupyter-core==4.5.0\n",
      "jupyterlab==1.0.2\n",
      "jupyterlab-server==1.0.0\n",
      "Keras==2.2.4\n",
      "Keras-Applications==1.0.8\n",
      "Keras-Preprocessing==1.1.0\n",
      "lazy-object-proxy==1.4.1\n",
      "Markdown==3.1.1\n",
      "MarkupSafe==1.1.1\n",
      "mccabe==0.6.1\n",
      "mistune==0.8.4\n",
      "nbconvert==5.5.0\n",
      "nbformat==4.4.0\n",
      "notebook==6.0.0\n",
      "numpy==1.16.4\n",
      "pandocfilters==1.4.2\n",
      "parso==0.5.1\n",
      "pexpect==4.7.0\n",
      "pickleshare==0.7.5\n",
      "Pillow==6.1.0\n",
      "prometheus-client==0.7.1\n",
      "prompt-toolkit==2.0.9\n",
      "protobuf==3.9.0\n",
      "ptyprocess==0.6.0\n",
      "Pygments==2.4.2\n",
      "pylint==2.3.1\n",
      "pyrsistent==0.15.3\n",
      "python-dateutil==2.8.0\n",
      "PyYAML==5.1.1\n",
      "pyzmq==18.0.2\n",
      "scipy==1.3.0\n",
      "Send2Trash==1.5.0\n",
      "six==1.12.0\n",
      "tensorboard==1.14.0\n",
      "tensorflow==1.14.0\n",
      "tensorflow-estimator==1.14.0\n",
      "termcolor==1.1.0\n",
      "terminado==0.8.2\n",
      "testpath==0.4.2\n",
      "tornado==6.0.3\n",
      "traitlets==4.3.2\n",
      "typed-ast==1.4.0\n",
      "wcwidth==0.1.7\n",
      "webencodings==0.5.1\n",
      "Werkzeug==0.15.4\n",
      "wrapt==1.11.2\n"
     ]
    }
   ],
   "source": [
    "!pip freeze"
   ]
  },
  {
   "cell_type": "markdown",
   "metadata": {},
   "source": [
    "##### Visualization Functions "
   ]
  },
  {
   "cell_type": "code",
   "execution_count": 5,
   "metadata": {},
   "outputs": [],
   "source": [
    "def display_side_to_side_two(path1, path2, width=300, height=400):\n",
    "    display(HTML(\"<table><tr><td><img src='{0}' width={2} height={3}></td><td><img src='{1}' width={2} height={3}></td></tr></table>\".format(path1, path2, width, height)))\n",
    "    \n",
    "def display_side_to_side_three(path1, path2, path3, width=300, height=400):\n",
    "    display(HTML(\"<table><tr><td><img src='{0}' width={3} height={4}></td><td><img src='{1}' width={3} height={4}></td><td><img src='{2}' width={3} height={4}></td></tr></table>\".format(path1, path2, path3, width, height)))"
   ]
  },
  {
   "cell_type": "markdown",
   "metadata": {},
   "source": [
    "### Config \n",
    "We need to define a couple of key parameters ahead of time."
   ]
  },
  {
   "cell_type": "markdown",
   "metadata": {},
   "source": [
    "##### Input images for content and style"
   ]
  },
  {
   "cell_type": "code",
   "execution_count": 6,
   "metadata": {},
   "outputs": [],
   "source": [
    "# path where the content and style images are located\n",
    "content_path = 'data/contents/content-landscape.jpg'\n",
    "style_path = 'data/styles/style-hokusai.jpg'"
   ]
  },
  {
   "cell_type": "code",
   "execution_count": 7,
   "metadata": {},
   "outputs": [],
   "source": [
    "# path to where Vgg19 model weight is located \n",
    "vgg_weights = \"data/vgg_weights/vgg19_weights_tf_dim_ordering_tf_kernels_notop.h5\""
   ]
  },
  {
   "cell_type": "markdown",
   "metadata": {},
   "source": [
    "##### Output generated image"
   ]
  },
  {
   "cell_type": "code",
   "execution_count": 8,
   "metadata": {},
   "outputs": [],
   "source": [
    "# save the result as\n",
    "save_name = 'generated.jpg'"
   ]
  },
  {
   "cell_type": "markdown",
   "metadata": {},
   "source": [
    "#####  ML parameters"
   ]
  },
  {
   "cell_type": "code",
   "execution_count": 9,
   "metadata": {},
   "outputs": [],
   "source": [
    "num_iterations = 200\n",
    "content_weight = 0.1\n",
    "style_weight = 0.9"
   ]
  },
  {
   "cell_type": "markdown",
   "metadata": {},
   "source": [
    "##### Other"
   ]
  },
  {
   "cell_type": "code",
   "execution_count": 10,
   "metadata": {},
   "outputs": [],
   "source": [
    "# list of layers to be considered for calculation of Content and Style Loss\n",
    "content_layers = ['block3_conv3']\n",
    "style_layers = ['block1_conv1','block2_conv2','block4_conv3']\n",
    "\n",
    "num_content_layers = len(content_layers)\n",
    "num_style_layers = len(style_layers)"
   ]
  },
  {
   "cell_type": "markdown",
   "metadata": {},
   "source": [
    "### Visual Investigation"
   ]
  },
  {
   "cell_type": "code",
   "execution_count": 11,
   "metadata": {},
   "outputs": [
    {
     "data": {
      "image/jpeg": "[encoded data removed]",
      "text/plain": [
       "<IPython.core.display.Image object>"
      ]
     },
     "metadata": {
      "image/jpeg": {
       "width": 400
      }
     },
     "output_type": "display_data"
    }
   ],
   "source": [
    "display(DisplayImage(content_path, width=400))"
   ]
  },
  {
   "cell_type": "code",
   "execution_count": 12,
   "metadata": {},
   "outputs": [
    {
     "data": {
      "text/html": [
       "<table><tr><td><img src='data/contents/content-landscape.jpg' width=200 height=400></td><td><img src='data/styles/style-hokusai.jpg' width=200 height=400></td></tr></table>"
      ],
      "text/plain": [
       "<IPython.core.display.HTML object>"
      ]
     },
     "metadata": {},
     "output_type": "display_data"
    }
   ],
   "source": [
    "display_side_to_side_two(content_path, style_path, width=200)"
   ]
  },
  {
   "cell_type": "code",
   "execution_count": 13,
   "metadata": {},
   "outputs": [
    {
     "data": {
      "text/html": [
       "<table><tr><td><img src='data/contents/content-landscape.jpg' width=300 height=400></td><td><img src='data/styles/style-hokusai.jpg' width=300 height=400></td><td><img src='data/generated/generated-urban-japan-hokusai-60.jpg' width=300 height=400></td></tr></table>"
      ],
      "text/plain": [
       "<IPython.core.display.HTML object>"
      ]
     },
     "metadata": {},
     "output_type": "display_data"
    }
   ],
   "source": [
    "display_side_to_side_three(content_path, style_path,'data/generated/generated-urban-japan-hokusai-60.jpg')"
   ]
  },
  {
   "cell_type": "markdown",
   "metadata": {},
   "source": [
    "### Loss Functions"
   ]
  },
  {
   "cell_type": "markdown",
   "metadata": {},
   "source": [
    "##### Get Features"
   ]
  },
  {
   "cell_type": "code",
   "execution_count": 17,
   "metadata": {},
   "outputs": [],
   "source": [
    "def get_feature_representations(model, content_path, style_path, num_content_layers):\n",
    "    \"\"\"\n",
    "    Used to pass content and style image through the model.\n",
    "    \"\"\"\n",
    "\n",
    "    # Load our images in \n",
    "    content_image = load_img(content_path)\n",
    "    style_image   = load_img(style_path)\n",
    "\n",
    "    # batch compute content and style features\n",
    "    content_outputs = model(content_image)\n",
    "    style_outputs   = model(style_image)\n",
    "\n",
    "    # Get the style and content feature representations from our model  \n",
    "    style_features   = [ style_layer[0]  for style_layer    in style_outputs[num_content_layers:] ]\n",
    "    content_features = [ content_layer[0] for content_layer in content_outputs[:num_content_layers] ]\n",
    "\n",
    "    return style_features, content_features"
   ]
  },
  {
   "cell_type": "markdown",
   "metadata": {},
   "source": [
    "##### Content Loss"
   ]
  },
  {
   "cell_type": "code",
   "execution_count": 14,
   "metadata": {},
   "outputs": [],
   "source": [
    "def get_content_loss(content, target):\n",
    "    return tf.reduce_mean(tf.square(content - target)) /2"
   ]
  },
  {
   "cell_type": "markdown",
   "metadata": {},
   "source": [
    "##### Style Loss"
   ]
  },
  {
   "cell_type": "code",
   "execution_count": 15,
   "metadata": {},
   "outputs": [],
   "source": [
    "def get_style_loss(base_style, gram_target):\n",
    "\n",
    "    height, width, channels = base_style.get_shape().as_list()\n",
    "    gram_style = gram_matrix(base_style)\n",
    "\n",
    "    # Original eqn as a constant to divide i.e 1/(4. * (channels ** 2) * (width * height) ** 2)\n",
    "    return tf.reduce_mean(tf.square(gram_style - gram_target)) / (channels**2 * width * height) #(4.0 * (channels ** 2) * (width * height) ** 2)"
   ]
  },
  {
   "cell_type": "markdown",
   "metadata": {},
   "source": [
    "##### Gram Matrix"
   ]
  },
  {
   "cell_type": "code",
   "execution_count": 18,
   "metadata": {},
   "outputs": [],
   "source": [
    "def gram_matrix(input_tensor):\n",
    "\n",
    "    # if input tensor is a 3D array of size Nh x Nw X Nc\n",
    "    # we reshape it to a 2D array of Nc x (Nh*Nw)\n",
    "    channels = int(input_tensor.shape[-1])\n",
    "    a = tf.reshape(input_tensor, [-1, channels])\n",
    "    n = tf.shape(a)[0]\n",
    "\n",
    "    # get gram matrix \n",
    "    gram = tf.matmul(a, a, transpose_a=True)\n",
    "\n",
    "    return gram"
   ]
  },
  {
   "cell_type": "markdown",
   "metadata": {},
   "source": [
    "##### Combine Losses"
   ]
  },
  {
   "cell_type": "code",
   "execution_count": 16,
   "metadata": {},
   "outputs": [],
   "source": [
    "def compute_loss(model, loss_weights, generated_output_activations, \n",
    "                 gram_style_features, content_features, \n",
    "                 num_content_layers, num_style_layers):\n",
    "\n",
    "    generated_content_activations = generated_output_activations[:num_content_layers]\n",
    "    generated_style_activations   = generated_output_activations[num_content_layers:]\n",
    "\n",
    "    style_weight, content_weight = loss_weights\n",
    "\n",
    "    style_score = 0\n",
    "    content_score = 0\n",
    "\n",
    "    # Accumulate style losses from all layers\n",
    "    # Here, we equally weight each contribution of each loss layer\n",
    "    weight_per_style_layer = 1.0 / float(num_style_layers)\n",
    "    for target_style, comb_style in zip(gram_style_features, generated_style_activations):\n",
    "        temp = get_style_loss(comb_style[0], target_style)\n",
    "        style_score += weight_per_style_layer * temp\n",
    "\n",
    "    # Accumulate content losses from all layers \n",
    "    weight_per_content_layer = 1.0 / float(num_content_layers)\n",
    "    for target_content, comb_content in zip(content_features, generated_content_activations):\n",
    "        temp = get_content_loss(comb_content[0], target_content)\n",
    "        content_score += weight_per_content_layer* temp\n",
    "\n",
    "    # Get total loss\n",
    "    loss = style_weight*style_score + content_weight*content_score \n",
    "\n",
    "\n",
    "    return loss, style_score, content_score"
   ]
  },
  {
   "cell_type": "markdown",
   "metadata": {},
   "source": [
    "### Model "
   ]
  },
  {
   "cell_type": "code",
   "execution_count": 19,
   "metadata": {},
   "outputs": [],
   "source": [
    "# Using Keras Load VGG19 model\n",
    "def get_model(content_layers,style_layers):\n",
    "\n",
    "    # Load our model. We load pretrained VGG, trained on imagenet data\n",
    "    vgg19 = VGG19(weights=None, include_top=False)\n",
    "\n",
    "    # We don't need to (or want to) train any layers of our pre-trained vgg model, so we set it's trainable to false.\n",
    "    vgg19.trainable = False\n",
    "\n",
    "    style_model_outputs = [vgg19.get_layer(name).output for name in style_layers]\n",
    "    content_model_outputs = [vgg19.get_layer(name).output for name in content_layers]\n",
    "\n",
    "    model_outputs = content_model_outputs + style_model_outputs\n",
    "\n",
    "    # Build model \n",
    "    return Model(inputs = vgg19.input, outputs = model_outputs),  vgg19"
   ]
  },
  {
   "cell_type": "markdown",
   "metadata": {},
   "source": [
    "### Style Transfer"
   ]
  },
  {
   "cell_type": "markdown",
   "metadata": {},
   "source": [
    "##### Start a session"
   ]
  },
  {
   "cell_type": "code",
   "execution_count": 20,
   "metadata": {},
   "outputs": [],
   "source": [
    "# Create a tensorflow session \n",
    "sess = tf.Session()\n",
    "\n",
    "# Assign keras back-end to the TF session which we created\n",
    "K.set_session(sess)"
   ]
  },
  {
   "cell_type": "markdown",
   "metadata": {},
   "source": [
    "##### Obtain the model"
   ]
  },
  {
   "cell_type": "code",
   "execution_count": 21,
   "metadata": {},
   "outputs": [
    {
     "name": "stderr",
     "output_type": "stream",
     "text": [
      "WARNING: Logging before flag parsing goes to stderr.\n",
      "W0719 14:37:36.259878 4661007808 deprecation_wrapper.py:119] From /Users/mateuszjurewicz/Bornhack ML Crashcourse/bornhack_ml_crashcourse/venv/lib/python3.7/site-packages/keras/backend/tensorflow_backend.py:74: The name tf.get_default_graph is deprecated. Please use tf.compat.v1.get_default_graph instead.\n",
      "\n",
      "W0719 14:37:36.261436 4661007808 deprecation_wrapper.py:119] From /Users/mateuszjurewicz/Bornhack ML Crashcourse/bornhack_ml_crashcourse/venv/lib/python3.7/site-packages/keras/backend/tensorflow_backend.py:517: The name tf.placeholder is deprecated. Please use tf.compat.v1.placeholder instead.\n",
      "\n",
      "W0719 14:37:36.265626 4661007808 deprecation_wrapper.py:119] From /Users/mateuszjurewicz/Bornhack ML Crashcourse/bornhack_ml_crashcourse/venv/lib/python3.7/site-packages/keras/backend/tensorflow_backend.py:4138: The name tf.random_uniform is deprecated. Please use tf.random.uniform instead.\n",
      "\n",
      "W0719 14:37:36.298644 4661007808 deprecation_wrapper.py:119] From /Users/mateuszjurewicz/Bornhack ML Crashcourse/bornhack_ml_crashcourse/venv/lib/python3.7/site-packages/keras/backend/tensorflow_backend.py:3976: The name tf.nn.max_pool is deprecated. Please use tf.nn.max_pool2d instead.\n",
      "\n"
     ]
    }
   ],
   "source": [
    "model, vgg19 = get_model(content_layers,style_layers)"
   ]
  },
  {
   "cell_type": "markdown",
   "metadata": {},
   "source": [
    "#####  Get the style"
   ]
  },
  {
   "cell_type": "code",
   "execution_count": 22,
   "metadata": {},
   "outputs": [],
   "source": [
    "# Get the style and content feature representations (from our specified intermediate layers) \n",
    "style_features, content_features = get_feature_representations(model, content_path, style_path, num_content_layers)\n",
    "gram_style_features = [gram_matrix(style_feature) for style_feature in style_features]"
   ]
  },
  {
   "cell_type": "markdown",
   "metadata": {},
   "source": [
    "##### Normalization"
   ]
  },
  {
   "cell_type": "code",
   "execution_count": 23,
   "metadata": {},
   "outputs": [],
   "source": [
    "# VGG default normalization\n",
    "norm_means = np.array([103.939, 116.779, 123.68])\n",
    "min_vals = -norm_means\n",
    "max_vals = 255 - norm_means "
   ]
  },
  {
   "cell_type": "markdown",
   "metadata": {},
   "source": [
    "##### TF variable for generated image"
   ]
  },
  {
   "cell_type": "code",
   "execution_count": 24,
   "metadata": {},
   "outputs": [],
   "source": [
    "# load the original content image, as it will become the generated one\n",
    "generated_image = load_img(content_path)\n",
    "\n",
    "# create tensorflow variable to hold a stylized/generated image during the training \n",
    "generated_image = tf.Variable(generated_image, dtype=tf.float32)\n",
    "\n",
    "# pass it to the model\n",
    "model_outputs = model(generated_image)"
   ]
  },
  {
   "cell_type": "markdown",
   "metadata": {},
   "source": [
    "##### Losses & Optimizer"
   ]
  },
  {
   "cell_type": "code",
   "execution_count": 25,
   "metadata": {},
   "outputs": [],
   "source": [
    "# weightages of each content and style images i.e alpha & beta\n",
    "loss_weights = (style_weight, content_weight)\n",
    "\n",
    "# Create our optimizer\n",
    "loss = compute_loss(model, loss_weights, model_outputs, gram_style_features, content_features, num_content_layers, num_style_layers)\n",
    "opt = tf.train.AdamOptimizer(learning_rate=9, beta1=0.9, epsilon=1e-1).minimize( loss[0], var_list = [generated_image])"
   ]
  },
  {
   "cell_type": "markdown",
   "metadata": {},
   "source": [
    "##### Initialize the TF variables"
   ]
  },
  {
   "cell_type": "code",
   "execution_count": 26,
   "metadata": {},
   "outputs": [],
   "source": [
    "sess.run(tf.global_variables_initializer())\n",
    "sess.run(generated_image.initializer)"
   ]
  },
  {
   "cell_type": "markdown",
   "metadata": {},
   "source": [
    "##### Load the downloaded vgg19 weights"
   ]
  },
  {
   "cell_type": "code",
   "execution_count": 27,
   "metadata": {},
   "outputs": [
    {
     "name": "stderr",
     "output_type": "stream",
     "text": [
      "W0719 14:37:37.388592 4661007808 deprecation_wrapper.py:119] From /Users/mateuszjurewicz/Bornhack ML Crashcourse/bornhack_ml_crashcourse/venv/lib/python3.7/site-packages/keras/backend/tensorflow_backend.py:174: The name tf.get_default_session is deprecated. Please use tf.compat.v1.get_default_session instead.\n",
      "\n",
      "W0719 14:37:37.389343 4661007808 deprecation_wrapper.py:119] From /Users/mateuszjurewicz/Bornhack ML Crashcourse/bornhack_ml_crashcourse/venv/lib/python3.7/site-packages/keras/backend/tensorflow_backend.py:190: The name tf.global_variables is deprecated. Please use tf.compat.v1.global_variables instead.\n",
      "\n"
     ]
    }
   ],
   "source": [
    "# loading the weights again because tf.global_variables_initializer() resets the weights\n",
    "vgg19.load_weights(vgg_weights)"
   ]
  },
  {
   "cell_type": "code",
   "execution_count": 28,
   "metadata": {},
   "outputs": [],
   "source": [
    "# Put loss as infinity before training starts and Create a variable to hold best image (i.e image with minimum loss)\n",
    "best_loss, best_img = float('inf'), None"
   ]
  },
  {
   "cell_type": "markdown",
   "metadata": {},
   "source": [
    "### Main Training Loop"
   ]
  },
  {
   "cell_type": "code",
   "execution_count": 29,
   "metadata": {},
   "outputs": [
    {
     "name": "stdout",
     "output_type": "stream",
     "text": [
      "best: iteration:  0 loss:  537113600.0   style_loss:  596790400.0   content_loss:  21992.861\n",
      "best: iteration:  1 loss:  391318560.0   style_loss:  434791600.0   content_loss:  61014.914\n",
      "best: iteration:  2 loss:  346188930.0   style_loss:  384644960.0   content_loss:  84768.73\n",
      "best: iteration:  3 loss:  282935870.0   style_loss:  314363200.0   content_loss:  89780.266\n",
      "best: iteration:  4 loss:  223594930.0   style_loss:  248429250.0   content_loss:  85985.484\n",
      "best: iteration:  5 loss:  190759980.0   style_loss:  211946530.0   content_loss:  80944.67\n",
      "best: iteration:  6 loss:  176171550.0   style_loss:  195737490.0   content_loss:  78235.8\n",
      "best: iteration:  7 loss:  167280770.0   style_loss:  185858770.0   content_loss:  78806.08\n",
      "best: iteration:  8 loss:  158050720.0   style_loss:  175602800.0   content_loss:  82045.69\n",
      "best: iteration:  9 loss:  146391460.0   style_loss:  162647540.0   content_loss:  86664.586\n",
      "best: iteration:  10 loss:  134020280.0   style_loss:  148901300.0   content_loss:  91202.234\n",
      "best: iteration:  11 loss:  123299990.0   style_loss:  136989500.0   content_loss:  94432.4\n",
      "best: iteration:  12 loss:  113886250.0   style_loss:  126529620.0   content_loss:  95961.7\n",
      "best: iteration:  13 loss:  104798184.0   style_loss:  116431740.0   content_loss:  96199.414\n",
      "best: iteration:  14 loss:  96639270.0   style_loss:  107366300.0   content_loss:  95989.875\n",
      "best: iteration:  15 loss:  90330344.0   style_loss:  100356370.0   content_loss:  96107.89\n",
      "best: iteration:  16 loss:  85526840.0   style_loss:  95019060.0   content_loss:  96851.79\n",
      "best: iteration:  17 loss:  80938904.0   style_loss:  89921224.0   content_loss:  98109.164\n",
      "best: iteration:  18 loss:  76138424.0   style_loss:  84587180.0   content_loss:  99599.33\n",
      "best: iteration:  19 loss:  71712600.0   style_loss:  79669440.0   content_loss:  101043.914\n",
      "best: iteration:  20 loss:  67947030.0   style_loss:  75485340.0   content_loss:  102256.83\n",
      "best: iteration:  21 loss:  64598570.0   style_loss:  71764720.0   content_loss:  103180.8\n",
      "best: iteration:  22 loss:  61480196.0   style_loss:  68299790.0   content_loss:  103849.234\n",
      "best: iteration:  23 loss:  58635270.0   style_loss:  65138708.0   content_loss:  104368.195\n",
      "best: iteration:  24 loss:  56045116.0   style_loss:  62260696.0   content_loss:  104923.02\n",
      "best: iteration:  25 loss:  53558892.0   style_loss:  59498140.0   content_loss:  105673.29\n",
      "best: iteration:  26 loss:  51140216.0   style_loss:  56810612.0   content_loss:  106717.56\n",
      "best: iteration:  27 loss:  48891364.0   style_loss:  54311732.0   content_loss:  108049.75\n",
      "best: iteration:  28 loss:  46884356.0   style_loss:  52081570.0   content_loss:  109496.7\n",
      "best: iteration:  29 loss:  45080670.0   style_loss:  50077324.0   content_loss:  110799.19\n",
      "best: iteration:  30 loss:  43372710.0   style_loss:  48179492.0   content_loss:  111732.92\n",
      "best: iteration:  31 loss:  41718150.0   style_loss:  46341036.0   content_loss:  112240.0\n",
      "best: iteration:  32 loss:  40173436.0   style_loss:  44624656.0   content_loss:  112481.85\n",
      "best: iteration:  33 loss:  38767348.0   style_loss:  43062310.0   content_loss:  112727.7\n",
      "best: iteration:  34 loss:  37441660.0   style_loss:  41589268.0   content_loss:  113212.46\n",
      "best: iteration:  35 loss:  36155984.0   style_loss:  40160644.0   content_loss:  114009.65\n",
      "best: iteration:  36 loss:  34952724.0   style_loss:  38823584.0   content_loss:  115012.27\n",
      "best: iteration:  37 loss:  33858772.0   style_loss:  37607964.0   content_loss:  116008.33\n",
      "best: iteration:  38 loss:  32831986.0   style_loss:  36467010.0   content_loss:  116806.55\n",
      "best: iteration:  39 loss:  31840696.0   style_loss:  35365510.0   content_loss:  117351.266\n",
      "best: iteration:  40 loss:  30899500.0   style_loss:  34319696.0   content_loss:  117739.86\n",
      "best: iteration:  41 loss:  30022076.0   style_loss:  33344736.0   content_loss:  118118.2\n",
      "best: iteration:  42 loss:  29196080.0   style_loss:  32426914.0   content_loss:  118577.65\n",
      "best: iteration:  43 loss:  28406356.0   style_loss:  31549382.0   content_loss:  119111.266\n",
      "best: iteration:  44 loss:  27646056.0   style_loss:  30704546.0   content_loss:  119643.69\n",
      "best: iteration:  45 loss:  26918972.0   style_loss:  29896624.0   content_loss:  120110.625\n",
      "best: iteration:  46 loss:  26228020.0   style_loss:  29128858.0   content_loss:  120507.234\n",
      "best: iteration:  47 loss:  25563054.0   style_loss:  28389966.0   content_loss:  120875.64\n",
      "best: iteration:  48 loss:  24919960.0   style_loss:  27675372.0   content_loss:  121252.46\n",
      "best: iteration:  49 loss:  24306460.0   style_loss:  26993664.0   content_loss:  121645.984\n",
      "best: iteration:  50 loss:  23721412.0   style_loss:  26343568.0   content_loss:  122028.35\n",
      "best: iteration:  51 loss:  23153430.0   style_loss:  25712436.0   content_loss:  122378.33\n",
      "best: iteration:  52 loss:  22603708.0   style_loss:  25101598.0   content_loss:  122704.92\n",
      "best: iteration:  53 loss:  22079268.0   style_loss:  24518848.0   content_loss:  123041.85\n",
      "best: iteration:  54 loss:  21573720.0   style_loss:  23957090.0   content_loss:  123394.1\n",
      "best: iteration:  55 loss:  21082074.0   style_loss:  23410780.0   content_loss:  123733.85\n",
      "best: iteration:  56 loss:  20605440.0   style_loss:  22881154.0   content_loss:  124028.914\n",
      "best: iteration:  57 loss:  20143936.0   style_loss:  22368342.0   content_loss:  124275.46\n",
      "best: iteration:  58 loss:  19695536.0   style_loss:  21870096.0   content_loss:  124512.0\n",
      "best: iteration:  59 loss:  19259336.0   style_loss:  21385398.0   content_loss:  124791.69\n",
      "best: iteration:  60 loss:  18836038.0   style_loss:  20915030.0   content_loss:  125126.8\n",
      "best: iteration:  61 loss:  18426912.0   style_loss:  20460408.0   content_loss:  125480.086\n",
      "best: iteration:  62 loss:  18028452.0   style_loss:  20017634.0   content_loss:  125794.0\n",
      "best: iteration:  63 loss:  17637700.0   style_loss:  19583440.0   content_loss:  126033.71\n",
      "best: iteration:  64 loss:  17257756.0   style_loss:  19161260.0   content_loss:  126225.2\n",
      "best: iteration:  65 loss:  16890946.0   style_loss:  18753672.0   content_loss:  126420.65\n",
      "best: iteration:  66 loss:  16533308.0   style_loss:  18356266.0   content_loss:  126670.23\n",
      "best: iteration:  67 loss:  16183829.0   style_loss:  17967926.0   content_loss:  126963.86\n",
      "best: iteration:  68 loss:  15843656.0   style_loss:  17589924.0   content_loss:  127252.914\n",
      "best: iteration:  69 loss:  15511842.0   style_loss:  17221216.0   content_loss:  127501.875\n",
      "best: iteration:  70 loss:  15188252.0   style_loss:  16861646.0   content_loss:  127706.9\n",
      "best: iteration:  71 loss:  14872370.0   style_loss:  16510644.0   content_loss:  127901.17\n",
      "best: iteration:  72 loss:  14562859.0   style_loss:  16166720.0   content_loss:  128111.89\n",
      "best: iteration:  73 loss:  14260549.0   style_loss:  15830795.0   content_loss:  128337.94\n",
      "best: iteration:  74 loss:  13964930.0   style_loss:  15502305.0   content_loss:  128561.9\n",
      "best: iteration:  75 loss:  13675858.0   style_loss:  15181090.0   content_loss:  128768.15\n",
      "best: iteration:  76 loss:  13393321.0   style_loss:  14867139.0   content_loss:  128963.3\n",
      "best: iteration:  77 loss:  13116908.0   style_loss:  14559992.0   content_loss:  129162.375\n",
      "best: iteration:  78 loss:  12846463.0   style_loss:  14259475.0   content_loss:  129363.69\n",
      "best: iteration:  79 loss:  12582401.0   style_loss:  13966052.0   content_loss:  129551.06\n",
      "best: iteration:  80 loss:  12323573.0   style_loss:  13678446.0   content_loss:  129715.81\n",
      "best: iteration:  81 loss:  12069449.0   style_loss:  13396070.0   content_loss:  129869.836\n",
      "best: iteration:  82 loss:  11820380.0   style_loss:  13119308.0   content_loss:  130030.11\n",
      "best: iteration:  83 loss:  11576200.0   style_loss:  12847978.0   content_loss:  130200.766\n",
      "best: iteration:  84 loss:  11336740.0   style_loss:  12581892.0   content_loss:  130371.44\n",
      "best: iteration:  85 loss:  11102025.0   style_loss:  12321080.0   content_loss:  130529.33\n",
      "best: iteration:  86 loss:  10871622.0   style_loss:  12065061.0   content_loss:  130666.61\n",
      "best: iteration:  87 loss:  10646333.0   style_loss:  11814726.0   content_loss:  130800.69\n",
      "best: iteration:  88 loss:  10424630.0   style_loss:  11568373.0   content_loss:  130948.61\n",
      "best: iteration:  89 loss:  10207040.0   style_loss:  11326590.0   content_loss:  131098.61\n",
      "best: iteration:  90 loss:  9993901.0   style_loss:  11089754.0   content_loss:  131234.97\n",
      "best: iteration:  91 loss:  9783699.0   style_loss:  10856182.0   content_loss:  131349.3\n",
      "best: iteration:  92 loss:  9577074.0   style_loss:  10626588.0   content_loss:  131448.05\n",
      "best: iteration:  93 loss:  9374310.0   style_loss:  10401283.0   content_loss:  131549.9\n",
      "best: iteration:  94 loss:  9175163.0   style_loss:  10179997.0   content_loss:  131662.66\n",
      "best: iteration:  95 loss:  8979364.0   style_loss:  9962430.0   content_loss:  131776.33\n",
      "best: iteration:  96 loss:  8786480.0   style_loss:  9748101.0   content_loss:  131881.05\n",
      "best: iteration:  97 loss:  8597193.0   style_loss:  9537772.0   content_loss:  131976.94\n",
      "best: iteration:  98 loss:  8411369.0   style_loss:  9331291.0   content_loss:  132071.45\n",
      "best: iteration:  99 loss:  8228741.5   style_loss:  9128361.0   content_loss:  132168.08\n",
      "best: iteration:  100 loss:  8050377.0   style_loss:  8930167.0   content_loss:  132268.31\n",
      "best: iteration:  101 loss:  7876871.0   style_loss:  8737372.0   content_loss:  132362.69\n",
      "best: iteration:  102 loss:  7708725.0   style_loss:  8550533.0   content_loss:  132456.47\n",
      "best: iteration:  103 loss:  7546505.5   style_loss:  8370278.0   content_loss:  132554.11\n",
      "best: iteration:  104 loss:  7389409.5   style_loss:  8195715.5   content_loss:  132655.47\n",
      "best: iteration:  105 loss:  7236317.0   style_loss:  8025602.0   content_loss:  132749.67\n",
      "best: iteration:  106 loss:  7087312.5   style_loss:  7860033.5   content_loss:  132824.72\n",
      "best: iteration:  107 loss:  6941485.5   style_loss:  7697997.5   content_loss:  132885.84\n",
      "best: iteration:  108 loss:  6798358.5   style_loss:  7538958.5   content_loss:  132953.66\n",
      "best: iteration:  109 loss:  6658105.0   style_loss:  7383112.5   content_loss:  133033.22\n",
      "best: iteration:  110 loss:  6520809.5   style_loss:  7230553.0   content_loss:  133116.34\n",
      "best: iteration:  111 loss:  6386795.5   style_loss:  7081640.0   content_loss:  133191.44\n",
      "best: iteration:  112 loss:  6256438.0   style_loss:  6936791.0   content_loss:  133259.78\n",
      "best: iteration:  113 loss:  6129060.0   style_loss:  6795253.0   content_loss:  133329.72\n",
      "best: iteration:  114 loss:  6004186.0   style_loss:  6656494.5   content_loss:  133408.72\n",
      "best: iteration:  115 loss:  5881126.5   style_loss:  6519752.5   content_loss:  133495.47\n",
      "best: iteration:  116 loss:  5759958.5   style_loss:  6385112.0   content_loss:  133579.83\n",
      "best: iteration:  117 loss:  5641189.0   style_loss:  6253138.0   content_loss:  133652.27\n",
      "best: iteration:  118 loss:  5525092.5   style_loss:  6124134.5   content_loss:  133715.8\n",
      "best: iteration:  119 loss:  5411383.5   style_loss:  5997783.5   content_loss:  133779.1\n",
      "best: iteration:  120 loss:  5299980.5   style_loss:  5873995.0   content_loss:  133845.47\n",
      "best: iteration:  121 loss:  5191047.5   style_loss:  5752951.0   content_loss:  133919.39\n",
      "best: iteration:  122 loss:  5085009.0   style_loss:  5635121.0   content_loss:  134001.44\n",
      "best: iteration:  123 loss:  4982352.5   style_loss:  5521049.0   content_loss:  134084.66\n",
      "best: iteration:  124 loss:  4882769.0   style_loss:  5410391.5   content_loss:  134168.48\n",
      "best: iteration:  125 loss:  4786616.0   style_loss:  5303546.0   content_loss:  134246.9\n",
      "best: iteration:  126 loss:  4693545.0   style_loss:  5200127.5   content_loss:  134311.95\n",
      "best: iteration:  127 loss:  4603469.0   style_loss:  5100035.0   content_loss:  134370.84\n",
      "best: iteration:  128 loss:  4515622.0   style_loss:  5002421.5   content_loss:  134432.28\n",
      "best: iteration:  129 loss:  4430102.0   style_loss:  4907391.5   content_loss:  134501.19\n",
      "best: iteration:  130 loss:  4346570.5   style_loss:  4814570.0   content_loss:  134571.98\n",
      "best: iteration:  131 loss:  4264834.0   style_loss:  4723744.5   content_loss:  134643.28\n",
      "best: iteration:  132 loss:  4184908.0   style_loss:  4634929.5   content_loss:  134710.81\n",
      "best: iteration:  133 loss:  4106854.5   style_loss:  4548197.0   content_loss:  134771.77\n",
      "best: iteration:  134 loss:  4030537.5   style_loss:  4463393.5   content_loss:  134830.56\n",
      "best: iteration:  135 loss:  3956042.5   style_loss:  4380615.5   content_loss:  134887.55\n",
      "best: iteration:  136 loss:  3883388.8   style_loss:  4299883.0   content_loss:  134942.94\n",
      "best: iteration:  137 loss:  3812578.2   style_loss:  4221198.5   content_loss:  134997.34\n",
      "best: iteration:  138 loss:  3743595.2   style_loss:  4144544.8   content_loss:  135050.9\n",
      "best: iteration:  139 loss:  3676243.2   style_loss:  4069702.8   content_loss:  135107.9\n",
      "best: iteration:  140 loss:  3610615.0   style_loss:  3996776.0   content_loss:  135167.2\n",
      "best: iteration:  141 loss:  3546810.5   style_loss:  3925875.8   content_loss:  135223.89\n",
      "best: iteration:  142 loss:  3484737.8   style_loss:  3856900.5   content_loss:  135275.22\n",
      "best: iteration:  143 loss:  3424282.8   style_loss:  3789723.0   content_loss:  135322.9\n",
      "best: iteration:  144 loss:  3365266.5   style_loss:  3724144.2   content_loss:  135368.53\n",
      "best: iteration:  145 loss:  3307686.8   style_loss:  3660161.5   content_loss:  135414.31\n",
      "best: iteration:  146 loss:  3251593.5   style_loss:  3597831.2   content_loss:  135457.84\n",
      "best: iteration:  147 loss:  3196830.2   style_loss:  3536977.8   content_loss:  135501.7\n",
      "best: iteration:  148 loss:  3143352.8   style_loss:  3477553.5   content_loss:  135546.6\n",
      "best: iteration:  149 loss:  3091113.8   style_loss:  3419504.8   content_loss:  135596.17\n",
      "best: iteration:  150 loss:  3039986.0   style_loss:  3362690.2   content_loss:  135648.84\n",
      "best: iteration:  151 loss:  2990051.0   style_loss:  3307201.2   content_loss:  135700.34\n",
      "best: iteration:  152 loss:  2941286.0   style_loss:  3253012.0   content_loss:  135750.19\n",
      "best: iteration:  153 loss:  2893672.5   style_loss:  3200103.2   content_loss:  135799.6\n",
      "best: iteration:  154 loss:  2847115.2   style_loss:  3148367.0   content_loss:  135849.84\n",
      "best: iteration:  155 loss:  2801678.0   style_loss:  3097876.0   content_loss:  135898.25\n",
      "best: iteration:  156 loss:  2757215.8   style_loss:  3048468.5   content_loss:  135942.73\n",
      "best: iteration:  157 loss:  2713636.0   style_loss:  3000042.0   content_loss:  135983.67\n",
      "best: iteration:  158 loss:  2670948.2   style_loss:  2952606.5   content_loss:  136024.33\n",
      "best: iteration:  159 loss:  2629181.0   style_loss:  2906193.8   content_loss:  136066.72\n",
      "best: iteration:  160 loss:  2588426.2   style_loss:  2860905.5   content_loss:  136111.34\n",
      "best: iteration:  161 loss:  2548603.2   style_loss:  2816652.8   content_loss:  136157.75\n",
      "best: iteration:  162 loss:  2509511.8   style_loss:  2773212.8   content_loss:  136202.22\n",
      "best: iteration:  163 loss:  2471149.2   style_loss:  2730583.0   content_loss:  136244.12\n",
      "best: iteration:  164 loss:  2433655.0   style_loss:  2688918.5   content_loss:  136286.16\n",
      "best: iteration:  165 loss:  2397056.0   style_loss:  2648248.2   content_loss:  136328.25\n",
      "best: iteration:  166 loss:  2361362.0   style_loss:  2608583.2   content_loss:  136371.86\n",
      "best: iteration:  167 loss:  2326486.2   style_loss:  2569827.8   content_loss:  136413.4\n",
      "best: iteration:  168 loss:  2292525.0   style_loss:  2532088.5   content_loss:  136453.0\n",
      "best: iteration:  169 loss:  2259373.2   style_loss:  2495249.0   content_loss:  136489.5\n",
      "best: iteration:  170 loss:  2226988.5   style_loss:  2459262.5   content_loss:  136523.5\n",
      "best: iteration:  171 loss:  2195366.0   style_loss:  2424122.8   content_loss:  136555.9\n",
      "best: iteration:  172 loss:  2164452.2   style_loss:  2389770.5   content_loss:  136586.53\n",
      "best: iteration:  173 loss:  2134289.0   style_loss:  2356252.2   content_loss:  136616.66\n",
      "best: iteration:  174 loss:  2104844.8   style_loss:  2323533.2   content_loss:  136648.92\n",
      "best: iteration:  175 loss:  2076190.2   style_loss:  2291690.8   content_loss:  136685.67\n",
      "best: iteration:  176 loss:  2048276.8   style_loss:  2260671.8   content_loss:  136724.72\n",
      "best: iteration:  177 loss:  2021133.2   style_loss:  2230507.5   content_loss:  136765.62\n",
      "best: iteration:  178 loss:  1994691.8   style_loss:  2201123.2   content_loss:  136809.22\n",
      "best: iteration:  179 loss:  1968963.0   style_loss:  2172530.8   content_loss:  136854.38\n",
      "best: iteration:  180 loss:  1943916.4   style_loss:  2144696.0   content_loss:  136900.0\n",
      "best: iteration:  181 loss:  1919453.1   style_loss:  2117509.5   content_loss:  136945.67\n",
      "best: iteration:  182 loss:  1895558.8   style_loss:  2090955.5   content_loss:  136987.39\n",
      "best: iteration:  183 loss:  1872233.1   style_loss:  2065033.9   content_loss:  137025.92\n",
      "best: iteration:  184 loss:  1849482.8   style_loss:  2039751.8   content_loss:  137064.16\n",
      "best: iteration:  185 loss:  1827303.0   style_loss:  2015103.1   content_loss:  137103.75\n",
      "best: iteration:  186 loss:  1805628.8   style_loss:  1991016.0   content_loss:  137143.84\n",
      "best: iteration:  187 loss:  1784489.4   style_loss:  1967523.2   content_loss:  137184.84\n",
      "best: iteration:  188 loss:  1763836.2   style_loss:  1944571.1   content_loss:  137223.62\n",
      "best: iteration:  189 loss:  1743638.6   style_loss:  1922125.2   content_loss:  137259.69\n",
      "best: iteration:  190 loss:  1723881.8   style_loss:  1900169.4   content_loss:  137294.16\n",
      "best: iteration:  191 loss:  1704573.5   style_loss:  1878711.9   content_loss:  137328.03\n",
      "best: iteration:  192 loss:  1685682.6   style_loss:  1857718.2   content_loss:  137362.9\n",
      "best: iteration:  193 loss:  1667153.5   style_loss:  1837126.5   content_loss:  137397.83\n",
      "best: iteration:  194 loss:  1649032.9   style_loss:  1816988.6   content_loss:  137431.4\n",
      "best: iteration:  195 loss:  1631310.5   style_loss:  1797293.5   content_loss:  137464.22\n",
      "best: iteration:  196 loss:  1613986.6   style_loss:  1778041.4   content_loss:  137495.5\n",
      "best: iteration:  197 loss:  1597056.8   style_loss:  1759227.0   content_loss:  137525.14\n",
      "best: iteration:  198 loss:  1580531.9   style_loss:  1740863.0   content_loss:  137552.95\n",
      "best: iteration:  199 loss:  1564353.6   style_loss:  1722883.8   content_loss:  137581.5\n"
     ]
    }
   ],
   "source": [
    "for i in range(num_iterations):\n",
    "\n",
    "    # Do optimization\n",
    "    sess.run(opt)\n",
    "\n",
    "    # Make sure image values stays in the range of max-min value of VGG norm \n",
    "    clipped = tf.clip_by_value(generated_image, min_vals, max_vals)\n",
    "    # assign the clipped value to the tensor stylized image\n",
    "    generated_image.assign(clipped)\n",
    "\n",
    "\n",
    "    # Open the Tuple of tensors \n",
    "    total_loss, style_score, content_score = loss\n",
    "    total_loss = total_loss.eval(session=sess)\n",
    "\n",
    "\n",
    "    if total_loss < best_loss:\n",
    "\n",
    "        # Update best loss and best image from total loss. \n",
    "        best_loss = total_loss\n",
    "\n",
    "        # generated image is of shape (1, h, w, 3) convert it to (h, w, 3)\n",
    "        temp_generated_image = sess.run(generated_image)[0]\n",
    "        best_img = deprocess_img(temp_generated_image)\n",
    "\n",
    "        s_loss = sess.run(style_score)\n",
    "        c_loss = sess.run(content_score)\n",
    "\n",
    "        # print best loss\n",
    "        print('best: iteration: ', i ,'loss: ', total_loss ,'  style_loss: ',  s_loss,'  content_loss: ', c_loss)\n",
    "\n",
    "    # Save image after every X iterations \n",
    "    if (i+1)%10 == 0:\n",
    "        output = Image.fromarray(best_img)\n",
    "        output.save(str(i+1)+'-'+save_name)\n",
    "\n",
    "# after num_iterations iterations are completed, close the TF session \n",
    "sess.close()"
   ]
  },
  {
   "cell_type": "code",
   "execution_count": null,
   "metadata": {},
   "outputs": [],
   "source": []
  }
 ],
 "metadata": {
  "kernelspec": {
   "display_name": "Python 3",
   "language": "python",
   "name": "python3"
  },
  "language_info": {
   "codemirror_mode": {
    "name": "ipython",
    "version": 3
   },
   "file_extension": ".py",
   "mimetype": "text/x-python",
   "name": "python",
   "nbconvert_exporter": "python",
   "pygments_lexer": "ipython3",
   "version": "3.7.0"
  }
 },
 "nbformat": 4,
 "nbformat_minor": 4
}
